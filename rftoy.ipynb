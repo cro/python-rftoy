{
 "cells": [
  {
   "cell_type": "code",
   "execution_count": 7,
   "id": "2d4e5325",
   "metadata": {},
   "outputs": [],
   "source": [
    "from rftoy import controller\n"
   ]
  },
  {
   "cell_type": "code",
   "execution_count": 12,
   "id": "fab1469d",
   "metadata": {},
   "outputs": [
    {
     "name": "stdout",
     "output_type": "stream",
     "text": [
      "{'stations': [{'name': 'C. R. Office Light', 'status': 0, 'code': '09c99809c99800fa'}, {'name': 'Office Fan Low', 'status': 0, 'code': '09c99509c99200fa'}, {'name': 'Office Fan Med', 'status': 0, 'code': '09c99909c99200fa'}, {'name': 'Office Fan Hi', 'status': 0, 'code': '09c99409c99200fa'}, {'name': 'Floor Fan (etek1)', 'status': 0, 'code': '44553344553c00c2'}, {'name': 'Station 06', 'status': 0, 'code': '4455c34455cc00c2'}, {'name': 'Station 07', 'status': 0, 'code': '44570344570c00c3'}, {'name': 'Station 08', 'status': 0, 'code': '445d03445d0c00c2'}, {'name': 'Station 09', 'status': 0, 'code': '44750344750c00c1'}, {'name': 'Station 10', 'status': 0, 'code': '----------------'}, {'name': 'Station 11', 'status': 0, 'code': '----------------'}, {'name': 'Station 12', 'status': 0, 'code': '----------------'}, {'name': 'Station 13', 'status': 0, 'code': '----------------'}, {'name': 'Station 14', 'status': 0, 'code': '----------------'}, {'name': 'Station 15', 'status': 0, 'code': '----------------'}, {'name': 'Station 16', 'status': 0, 'code': '----------------'}, {'name': 'Station 17', 'status': 0, 'code': '----------------'}, {'name': 'Station 18', 'status': 0, 'code': '----------------'}, {'name': 'Station 19', 'status': 0, 'code': '----------------'}, {'name': 'Station 20', 'status': 0, 'code': '----------------'}, {'name': 'Station 21', 'status': 0, 'code': '----------------'}, {'name': 'Station 22', 'status': 0, 'code': '----------------'}, {'name': 'Station 23', 'status': 0, 'code': '----------------'}, {'name': 'Station 24', 'status': 0, 'code': '----------------'}, {'name': 'Station 25', 'status': 0, 'code': '----------------'}, {'name': 'Station 26', 'status': 0, 'code': '----------------'}, {'name': 'Station 27', 'status': 0, 'code': '----------------'}, {'name': 'Station 28', 'status': 0, 'code': '----------------'}, {'name': 'Station 29', 'status': 0, 'code': '----------------'}, {'name': 'Station 30', 'status': 0, 'code': '----------------'}, {'name': 'Station 31', 'status': 0, 'code': '----------------'}, {'name': 'Station 32', 'status': 0, 'code': '----------------'}, {'name': 'Station 33', 'status': 0, 'code': '----------------'}, {'name': 'Station 34', 'status': 0, 'code': '----------------'}, {'name': 'Station 35', 'status': 0, 'code': '----------------'}, {'name': 'Station 36', 'status': 0, 'code': '----------------'}, {'name': 'Station 37', 'status': 0, 'code': '----------------'}, {'name': 'Station 38', 'status': 0, 'code': '----------------'}, {'name': 'Station 39', 'status': 0, 'code': '----------------'}, {'name': 'Station 40', 'status': 0, 'code': '----------------'}, {'name': 'Station 41', 'status': 0, 'code': '----------------'}, {'name': 'Station 42', 'status': 0, 'code': '----------------'}, {'name': 'Station 43', 'status': 0, 'code': '----------------'}, {'name': 'Station 44', 'status': 0, 'code': '----------------'}, {'name': 'Station 45', 'status': 0, 'code': '----------------'}, {'name': 'Station 46', 'status': 0, 'code': '----------------'}, {'name': 'Station 47', 'status': 0, 'code': '----------------'}, {'name': 'Station 48', 'status': 0, 'code': '----------------'}, {'name': 'Station 49', 'status': 0, 'code': '----------------'}, {'name': 'Station 50', 'status': 0, 'code': '----------------'}]}\n"
     ]
    }
   ],
   "source": [
    "import httpx\n",
    "r = httpx.get(\"http://rftoy.home.ncbt.org/jc\")\n",
    "print(r.json())"
   ]
  },
  {
   "cell_type": "raw",
   "id": "baf47910",
   "metadata": {},
   "source": [
    "print(r)"
   ]
  },
  {
   "cell_type": "code",
   "execution_count": 26,
   "id": "e2c2dd36",
   "metadata": {},
   "outputs": [
    {
     "name": "stdout",
     "output_type": "stream",
     "text": [
      "[1]\n",
      "{'result': 0}\n",
      "{'stations': [{'name': 'C. R. Office Light', 'status': 1, 'code': '09c99809c99800fa'}, {'name': 'Office Fan Low', 'status': 0, 'code': '09c99509c99200fa'}, {'name': 'Office Fan Med', 'status': 0, 'code': '09c99909c99200fa'}, {'name': 'Office Fan Hi', 'status': 0, 'code': '09c99409c99200fa'}, {'name': 'Floor Fan (etek1)', 'status': 0, 'code': '44553344553c00c2'}, {'name': 'Station 06', 'status': 0, 'code': '4455c34455cc00c2'}, {'name': 'Station 07', 'status': 0, 'code': '44570344570c00c3'}, {'name': 'Station 08', 'status': 0, 'code': '445d03445d0c00c2'}, {'name': 'Station 09', 'status': 0, 'code': '44750344750c00c1'}, {'name': 'Station 10', 'status': 0, 'code': '----------------'}, {'name': 'Station 11', 'status': 0, 'code': '----------------'}, {'name': 'Station 12', 'status': 0, 'code': '----------------'}, {'name': 'Station 13', 'status': 0, 'code': '----------------'}, {'name': 'Station 14', 'status': 0, 'code': '----------------'}, {'name': 'Station 15', 'status': 0, 'code': '----------------'}, {'name': 'Station 16', 'status': 0, 'code': '----------------'}, {'name': 'Station 17', 'status': 0, 'code': '----------------'}, {'name': 'Station 18', 'status': 0, 'code': '----------------'}, {'name': 'Station 19', 'status': 0, 'code': '----------------'}, {'name': 'Station 20', 'status': 0, 'code': '----------------'}, {'name': 'Station 21', 'status': 0, 'code': '----------------'}, {'name': 'Station 22', 'status': 0, 'code': '----------------'}, {'name': 'Station 23', 'status': 0, 'code': '----------------'}, {'name': 'Station 24', 'status': 0, 'code': '----------------'}, {'name': 'Station 25', 'status': 0, 'code': '----------------'}, {'name': 'Station 26', 'status': 0, 'code': '----------------'}, {'name': 'Station 27', 'status': 0, 'code': '----------------'}, {'name': 'Station 28', 'status': 0, 'code': '----------------'}, {'name': 'Station 29', 'status': 0, 'code': '----------------'}, {'name': 'Station 30', 'status': 0, 'code': '----------------'}, {'name': 'Station 31', 'status': 0, 'code': '----------------'}, {'name': 'Station 32', 'status': 0, 'code': '----------------'}, {'name': 'Station 33', 'status': 0, 'code': '----------------'}, {'name': 'Station 34', 'status': 0, 'code': '----------------'}, {'name': 'Station 35', 'status': 0, 'code': '----------------'}, {'name': 'Station 36', 'status': 0, 'code': '----------------'}, {'name': 'Station 37', 'status': 0, 'code': '----------------'}, {'name': 'Station 38', 'status': 0, 'code': '----------------'}, {'name': 'Station 39', 'status': 0, 'code': '----------------'}, {'name': 'Station 40', 'status': 0, 'code': '----------------'}, {'name': 'Station 41', 'status': 0, 'code': '----------------'}, {'name': 'Station 42', 'status': 0, 'code': '----------------'}, {'name': 'Station 43', 'status': 0, 'code': '----------------'}, {'name': 'Station 44', 'status': 0, 'code': '----------------'}, {'name': 'Station 45', 'status': 0, 'code': '----------------'}, {'name': 'Station 46', 'status': 0, 'code': '----------------'}, {'name': 'Station 47', 'status': 0, 'code': '----------------'}, {'name': 'Station 48', 'status': 0, 'code': '----------------'}, {'name': 'Station 49', 'status': 0, 'code': '----------------'}, {'name': 'Station 50', 'status': 0, 'code': '----------------'}]}\n"
     ]
    }
   ],
   "source": [
    "s = []\n",
    "s.append(1)\n",
    "print(s)\n",
    "r = httpx.get(\"http://rftoy.home.ncbt.org/cc?sid=0&turn=on\")\n",
    "print(r.json())\n",
    "r = httpx.get(\"http://rftoy.home.ncbt.org/jc\")\n",
    "print(r.json())"
   ]
  },
  {
   "cell_type": "code",
   "execution_count": 34,
   "id": "90865dac",
   "metadata": {},
   "outputs": [
    {
     "name": "stdout",
     "output_type": "stream",
     "text": [
      "['/Users/coldham/.pyenv/versions/3.9.14/envs/rftoy/lib/python3.9/site-packages/ipykernel_launcher.py', '-f', '/Users/coldham/Library/Jupyter/runtime/kernel-a11a9330-4d20-42e2-b26b-9ed3a3863e27.json']\n"
     ]
    }
   ],
   "source": [
    "\n",
    "import sys\n",
    "print(sys.argv)"
   ]
  }
 ],
 "metadata": {
  "kernelspec": {
   "display_name": "Python 3 (ipykernel)",
   "language": "python",
   "name": "python3"
  },
  "language_info": {
   "codemirror_mode": {
    "name": "ipython",
    "version": 3
   },
   "file_extension": ".py",
   "mimetype": "text/x-python",
   "name": "python",
   "nbconvert_exporter": "python",
   "pygments_lexer": "ipython3",
   "version": "3.9.14"
  }
 },
 "nbformat": 4,
 "nbformat_minor": 5
}
